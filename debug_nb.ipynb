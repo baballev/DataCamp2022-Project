{
 "cells": [
  {
   "cell_type": "code",
   "execution_count": 2,
   "metadata": {},
   "outputs": [],
   "source": [
    "import pandas as pd\n",
    "import os\n",
    "import urllib.request\n",
    "import socket\n",
    "import random\n",
    "\n",
    "socket.setdefaulttimeout(20)\n",
    "\n",
    "CSV_PATH = \"./en.openfoodfacts.org.products.csv\"\n",
    "IMAGES_PATH = \"./data/images/\"\n",
    "LABEL_PATH = \"./data/labels.csv\"\n",
    "ROOT_URI = \"https://images.openfoodfacts.org/images/products/\""
   ]
  },
  {
   "cell_type": "code",
   "execution_count": 3,
   "metadata": {},
   "outputs": [],
   "source": [
    "N_train_public = 50000\n",
    "N_test_public = 5000\n",
    "N_train_private, N_test_private = N_train_public, N_test_public\n",
    "\n",
    "filtered_categories = [\"Beverages\", \"Sweet snacks\", \"Dairies\", \"Cereals and potatoes\", \"Meats\", \"Fermented foods\", \"Fermented milk products\", \n",
    "                    \"Groceries\", \"Meals\", \"Cereals and their products\", \"Cheeses\", \"Sauces\", \"Spreads\", \"Confectioneries\", \"Prepared meats\", \n",
    "                    \"Frozen foods\", \"Breakfasts\", \"Desserts\", \"Canned foods\", \"Seafood\", \"Cocoa and its products\", \"Fats\", \"Condiments\", \n",
    "                    \"Fishes\", \"Breads\", \"Yogurts\", \"Cakes\", \"Biscuits\", \"Pastas\", \"Legumes\"]\n",
    "filtered_categories = [s.lower() for s in filtered_categories]\n",
    "\n",
    "CLASS_TO_INDEX = {filtered_categories[i]:i for i in range(len(filtered_categories))}\n",
    "INDEX_TO_CLASS = {i:filtered_categories[i] for i in range(len(filtered_categories))}"
   ]
  },
  {
   "cell_type": "code",
   "execution_count": 4,
   "metadata": {},
   "outputs": [],
   "source": [
    "def idx_to_str(idx):\n",
    "    tmp_idx = idx\n",
    "    zeros = 7\n",
    "    while tmp_idx // 10 > 0:\n",
    "        tmp_idx = tmp_idx // 10\n",
    "        zeros -= 1\n",
    "    return \"0\"*zeros + str(idx)\n",
    "\n",
    "def filter_categories(categories_str):\n",
    "    s = categories_str.lower().split(',')\n",
    "    out = \"\"\n",
    "    for label in CLASS_TO_INDEX:\n",
    "        if label in s:\n",
    "            out += str(CLASS_TO_INDEX[label]) + \";\"\n",
    "            continue\n",
    "    if len(out) == 0: return out\n",
    "    return out[:-1] # Remove last coma"
   ]
  },
  {
   "cell_type": "code",
   "execution_count": 5,
   "metadata": {},
   "outputs": [],
   "source": [
    "skip_fact = 5"
   ]
  },
  {
   "cell_type": "code",
   "execution_count": 6,
   "metadata": {},
   "outputs": [
    {
     "name": "stderr",
     "output_type": "stream",
     "text": [
      "C:\\Users\\babal\\Miniconda3\\envs\\tensorflow\\lib\\site-packages\\IPython\\core\\interactiveshell.py:3444: DtypeWarning: Columns (0,8,14,20,21,22,23,24,28,29,30,32,33,42,43,44,49,63) have mixed types.Specify dtype option on import or set low_memory=False.\n",
      "  exec(code_obj, self.user_global_ns, self.user_ns)\n"
     ]
    }
   ],
   "source": [
    "df = pd.read_csv(CSV_PATH, sep=\"\\t\").dropna(how='any', subset=[\"categories_en\", \"image_url\"])[[\"categories_en\", \"image_url\"]]\n",
    "\n",
    "output_df_public = pd.DataFrame(columns=[\"split\", \"uri\", \"labels\"])\n",
    "output_df_private = pd.DataFrame(columns=[\"split\", \"uri\", \"labels\"])"
   ]
  },
  {
   "cell_type": "code",
   "execution_count": 7,
   "metadata": {},
   "outputs": [
    {
     "data": {
      "text/html": [
       "<div>\n",
       "<style scoped>\n",
       "    .dataframe tbody tr th:only-of-type {\n",
       "        vertical-align: middle;\n",
       "    }\n",
       "\n",
       "    .dataframe tbody tr th {\n",
       "        vertical-align: top;\n",
       "    }\n",
       "\n",
       "    .dataframe thead th {\n",
       "        text-align: right;\n",
       "    }\n",
       "</style>\n",
       "<table border=\"1\" class=\"dataframe\">\n",
       "  <thead>\n",
       "    <tr style=\"text-align: right;\">\n",
       "      <th></th>\n",
       "      <th>categories_en</th>\n",
       "      <th>image_url</th>\n",
       "    </tr>\n",
       "  </thead>\n",
       "  <tbody>\n",
       "    <tr>\n",
       "      <th>7</th>\n",
       "      <td>Groceries,Condiments,Sauces,Mustards</td>\n",
       "      <td>https://images.openfoodfacts.org/images/produc...</td>\n",
       "    </tr>\n",
       "    <tr>\n",
       "      <th>16</th>\n",
       "      <td>Marzipan,Almond paste</td>\n",
       "      <td>https://images.openfoodfacts.org/images/produc...</td>\n",
       "    </tr>\n",
       "    <tr>\n",
       "      <th>17</th>\n",
       "      <td>Meals,Prepared vegetables,Grated carrots,Seaso...</td>\n",
       "      <td>https://images.openfoodfacts.org/images/produc...</td>\n",
       "    </tr>\n",
       "    <tr>\n",
       "      <th>26</th>\n",
       "      <td>Pies,Sweet pies,Coconut pies</td>\n",
       "      <td>https://images.openfoodfacts.org/images/produc...</td>\n",
       "    </tr>\n",
       "    <tr>\n",
       "      <th>36</th>\n",
       "      <td>Plant-based foods and beverages,Plant-based fo...</td>\n",
       "      <td>https://images.openfoodfacts.org/images/produc...</td>\n",
       "    </tr>\n",
       "  </tbody>\n",
       "</table>\n",
       "</div>"
      ],
      "text/plain": [
       "                                        categories_en  \\\n",
       "7                Groceries,Condiments,Sauces,Mustards   \n",
       "16                              Marzipan,Almond paste   \n",
       "17  Meals,Prepared vegetables,Grated carrots,Seaso...   \n",
       "26                       Pies,Sweet pies,Coconut pies   \n",
       "36  Plant-based foods and beverages,Plant-based fo...   \n",
       "\n",
       "                                            image_url  \n",
       "7   https://images.openfoodfacts.org/images/produc...  \n",
       "16  https://images.openfoodfacts.org/images/produc...  \n",
       "17  https://images.openfoodfacts.org/images/produc...  \n",
       "26  https://images.openfoodfacts.org/images/produc...  \n",
       "36  https://images.openfoodfacts.org/images/produc...  "
      ]
     },
     "execution_count": 7,
     "metadata": {},
     "output_type": "execute_result"
    }
   ],
   "source": [
    "df.head()"
   ]
  },
  {
   "cell_type": "code",
   "execution_count": 8,
   "metadata": {},
   "outputs": [
    {
     "name": "stdout",
     "output_type": "stream",
     "text": [
      "5000\n",
      "5000\n",
      "50000\n",
      "50000\n"
     ]
    }
   ],
   "source": [
    "N = N_test_private + N_test_public + N_train_public + N_train_private\n",
    "idx_test_private, idx_train_private, idx_test_public, idx_train_public = 0, 0, 0, 0\n",
    "\n",
    "\n",
    "iterator = df.iterrows()\n",
    "\n",
    "# BongoSort complexity?\n",
    "while N_test_private + N_test_public + N_train_public + N_train_private > 0:\n",
    "    for _ in range(skip_fact):\n",
    "        idx, row = next(iterator)\n",
    "    out = filter_categories(row[\"categories_en\"])\n",
    "    while out == \"\":\n",
    "        idx, row = next(iterator)\n",
    "        out = filter_categories(row[\"categories_en\"])\n",
    "\n",
    "    r = random.random()\n",
    "    if r < N_test_private/N:\n",
    "        output_df_private.loc[idx_test_private+idx_train_private] = {\"split\": \"test\", \"uri\": row[\"image_url\"][len(ROOT_URI):], \"labels\":str(out)}\n",
    "        idx_test_private += 1\n",
    "        N_test_private -= 1\n",
    "    elif r < (N_test_private + N_test_public)/N:\n",
    "        output_df_public.loc[idx_test_public+idx_train_public] = {\"split\": \"test\", \"uri\": row[\"image_url\"][len(ROOT_URI):], \"labels\":str(out)}\n",
    "        idx_test_public += 1\n",
    "        N_test_public -= 1\n",
    "    elif r < (N_test_private + N_test_public + N_train_public)/N:\n",
    "        output_df_public.loc[idx_train_public+idx_test_public] = {\"split\": \"train\", \"uri\": row[\"image_url\"][len(ROOT_URI):], \"labels\":str(out)}\n",
    "        idx_train_public += 1\n",
    "        N_train_public -=1\n",
    "    else:\n",
    "        output_df_private.loc[idx_train_private+idx_test_private] = {\"split\": \"train\", \"uri\": row[\"image_url\"][len(ROOT_URI):], \"labels\":str(out)}\n",
    "        idx_train_private += 1\n",
    "        N_train_private -= 1\n",
    "    N -= 1\n",
    "print(idx_test_private)\n",
    "print(idx_test_public)\n",
    "print(idx_train_private)\n",
    "print(idx_train_public)\n",
    "assert idx_test_public == idx_test_private\n",
    "assert idx_train_private == idx_train_public\n",
    "\n",
    "output_df_private.to_csv(\"./data_location_private.csv\", )\n",
    "output_df_public.to_csv(\"./data_location_public.csv\")"
   ]
  }
 ],
 "metadata": {
  "interpreter": {
   "hash": "e8bd2d720fe0f45debc3e850d7e603ed76f8edd67f35544a0b4420d3638d7fe2"
  },
  "kernelspec": {
   "display_name": "Python 3.7.5 ('tensorflow')",
   "language": "python",
   "name": "python3"
  },
  "language_info": {
   "codemirror_mode": {
    "name": "ipython",
    "version": 3
   },
   "file_extension": ".py",
   "mimetype": "text/x-python",
   "name": "python",
   "nbconvert_exporter": "python",
   "pygments_lexer": "ipython3",
   "version": "3.7.5"
  },
  "orig_nbformat": 4
 },
 "nbformat": 4,
 "nbformat_minor": 2
}
